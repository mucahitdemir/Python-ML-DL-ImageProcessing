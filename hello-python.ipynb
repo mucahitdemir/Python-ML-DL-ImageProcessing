{
 "cells": [
  {
   "cell_type": "markdown",
   "id": "e9799aac",
   "metadata": {
    "papermill": {
     "duration": 0.011877,
     "end_time": "2022-06-09T20:57:03.319109",
     "exception": false,
     "start_time": "2022-06-09T20:57:03.307232",
     "status": "completed"
    },
    "tags": []
   },
   "source": [
    "This course covers the key Python skills you’ll need so you can start using Python for data science. The course is ideal for someone with some previous coding experience who wants to add Python to their repertoire. (If you're a first-time coder, you are encouraged to check out our [Intro to Programming course](https://www.kaggle.com/learn/intro-to-programming), which is designed for complete beginners who would like to get started with Python.)\n",
    "\n",
    "We'll start with a brief overview of Python syntax, variable assignment, and arithmetic operators. "
   ]
  },
  {
   "cell_type": "markdown",
   "id": "508f61b6",
   "metadata": {
    "papermill": {
     "duration": 0.010443,
     "end_time": "2022-06-09T20:57:03.340396",
     "exception": false,
     "start_time": "2022-06-09T20:57:03.329953",
     "status": "completed"
    },
    "tags": []
   },
   "source": [
    "# Hello, Python!\n",
    "\n",
    "Python was named for the British comedy troupe [Monty Python](https://en.wikipedia.org/wiki/Monty_Python), so we'll make our first Python program a homage to their skit about [Spam](https://bit.ly/3MwwjSs).\n",
    "\n",
    "Just for fun, try reading over the code below and predicting what it's going to do when run. (If you have no idea, that's fine!)\n",
    "\n",
    "Then click the \"output\" button to see the results of our program."
   ]
  },
  {
   "cell_type": "code",
   "execution_count": 1,
   "id": "dde448ec",
   "metadata": {
    "_kg_hide-output": true,
    "execution": {
     "iopub.execute_input": "2022-06-09T20:57:03.364738Z",
     "iopub.status.busy": "2022-06-09T20:57:03.364120Z",
     "iopub.status.idle": "2022-06-09T20:57:03.373025Z",
     "shell.execute_reply": "2022-06-09T20:57:03.372539Z"
    },
    "papermill": {
     "duration": 0.023544,
     "end_time": "2022-06-09T20:57:03.375248",
     "exception": false,
     "start_time": "2022-06-09T20:57:03.351704",
     "status": "completed"
    },
    "tags": []
   },
   "outputs": [
    {
     "name": "stdout",
     "output_type": "stream",
     "text": [
      "0\n",
      "But I don't want ANY spam!\n",
      "Spam Spam Spam Spam \n"
     ]
    }
   ],
   "source": [
    "spam_amount = 0\n",
    "print(spam_amount)\n",
    "\n",
    "# Ordering Spam, egg, Spam, Spam, bacon and Spam (4 more servings of Spam)\n",
    "spam_amount = spam_amount + 4\n",
    "\n",
    "if spam_amount > 0:\n",
    "    print(\"But I don't want ANY spam!\")\n",
    "\n",
    "viking_song = \"Spam \" * spam_amount\n",
    "print(viking_song)"
   ]
  },
  {
   "cell_type": "markdown",
   "id": "9ddf9072",
   "metadata": {
    "papermill": {
     "duration": 0.010567,
     "end_time": "2022-06-09T20:57:03.397039",
     "exception": false,
     "start_time": "2022-06-09T20:57:03.386472",
     "status": "completed"
    },
    "tags": []
   },
   "source": [
    "There's a lot to unpack here! This silly program demonstrates many important aspects of what Python code looks like and how it works. Let's review the code from top to bottom."
   ]
  },
  {
   "cell_type": "code",
   "execution_count": 2,
   "id": "b322a176",
   "metadata": {
    "collapsed": true,
    "execution": {
     "iopub.execute_input": "2022-06-09T20:57:03.420681Z",
     "iopub.status.busy": "2022-06-09T20:57:03.420155Z",
     "iopub.status.idle": "2022-06-09T20:57:03.423550Z",
     "shell.execute_reply": "2022-06-09T20:57:03.423044Z"
    },
    "jupyter": {
     "outputs_hidden": true
    },
    "papermill": {
     "duration": 0.017083,
     "end_time": "2022-06-09T20:57:03.425273",
     "exception": false,
     "start_time": "2022-06-09T20:57:03.408190",
     "status": "completed"
    },
    "tags": []
   },
   "outputs": [],
   "source": [
    "spam_amount = 0"
   ]
  },
  {
   "cell_type": "markdown",
   "id": "dbea3079",
   "metadata": {
    "papermill": {
     "duration": 0.010771,
     "end_time": "2022-06-09T20:57:03.447259",
     "exception": false,
     "start_time": "2022-06-09T20:57:03.436488",
     "status": "completed"
    },
    "tags": []
   },
   "source": [
    "**Variable assignment:** Here we create a variable called `spam_amount` and assign it the value of 0 using `=`, which is called the assignment operator.\n",
    "\n",
    "> **Note**: If you've programmed in certain other languages (like Java or C++), you might be noticing some things Python *doesn't* require us to do here:  \n",
    "- we don't need to \"declare\" `spam_amount` before assigning to it\n",
    "- we don't need to tell Python what type of value `spam_amount` is going to refer to. In fact, we can even go on to reassign `spam_amount` to refer to a different sort of thing like a string or a boolean."
   ]
  },
  {
   "cell_type": "code",
   "execution_count": 3,
   "id": "6fd50196",
   "metadata": {
    "_kg_hide-output": false,
    "collapsed": true,
    "execution": {
     "iopub.execute_input": "2022-06-09T20:57:03.470826Z",
     "iopub.status.busy": "2022-06-09T20:57:03.470302Z",
     "iopub.status.idle": "2022-06-09T20:57:03.474120Z",
     "shell.execute_reply": "2022-06-09T20:57:03.473486Z"
    },
    "jupyter": {
     "outputs_hidden": true
    },
    "papermill": {
     "duration": 0.017677,
     "end_time": "2022-06-09T20:57:03.475939",
     "exception": false,
     "start_time": "2022-06-09T20:57:03.458262",
     "status": "completed"
    },
    "tags": []
   },
   "outputs": [
    {
     "name": "stdout",
     "output_type": "stream",
     "text": [
      "0\n"
     ]
    }
   ],
   "source": [
    "print(spam_amount)"
   ]
  },
  {
   "cell_type": "markdown",
   "id": "0f835ab4",
   "metadata": {
    "papermill": {
     "duration": 0.011235,
     "end_time": "2022-06-09T20:57:03.498950",
     "exception": false,
     "start_time": "2022-06-09T20:57:03.487715",
     "status": "completed"
    },
    "tags": []
   },
   "source": [
    "**Function calls:**. `print` is a Python function that displays the value passed to it on the screen. We call functions by putting parentheses after their name, and putting the inputs (or *arguments*) to the function in those parentheses."
   ]
  },
  {
   "cell_type": "code",
   "execution_count": 4,
   "id": "3dcb3971",
   "metadata": {
    "_kg_hide-output": false,
    "collapsed": true,
    "execution": {
     "iopub.execute_input": "2022-06-09T20:57:03.522951Z",
     "iopub.status.busy": "2022-06-09T20:57:03.522275Z",
     "iopub.status.idle": "2022-06-09T20:57:03.525502Z",
     "shell.execute_reply": "2022-06-09T20:57:03.524979Z"
    },
    "jupyter": {
     "outputs_hidden": true
    },
    "papermill": {
     "duration": 0.017425,
     "end_time": "2022-06-09T20:57:03.527565",
     "exception": false,
     "start_time": "2022-06-09T20:57:03.510140",
     "status": "completed"
    },
    "tags": []
   },
   "outputs": [],
   "source": [
    "# Ordering Spam, egg, Spam, Spam, bacon and Spam (4 more servings of Spam)\n",
    "spam_amount = spam_amount + 4"
   ]
  },
  {
   "cell_type": "markdown",
   "id": "b1f768fd",
   "metadata": {
    "papermill": {
     "duration": 0.011603,
     "end_time": "2022-06-09T20:57:03.550648",
     "exception": false,
     "start_time": "2022-06-09T20:57:03.539045",
     "status": "completed"
    },
    "tags": []
   },
   "source": [
    "The first line above is a **comment**. In Python, comments begin with the `#` symbol.\n",
    "\n",
    "Next we see an example of reassignment. Reassigning the value of an existing variable looks just the same as creating a variable - it still uses the `=` assignment operator.\n",
    "\n",
    "In this case, the value we're assigning to `spam_amount` involves some simple arithmetic on its previous value. When it encounters this line, Python evaluates the expression on the right-hand-side of the `=` (0 + 4 = 4), and then assigns that value to the variable on the left-hand-side."
   ]
  },
  {
   "cell_type": "code",
   "execution_count": 5,
   "id": "835f48a6",
   "metadata": {
    "_kg_hide-output": false,
    "collapsed": true,
    "execution": {
     "iopub.execute_input": "2022-06-09T20:57:03.575297Z",
     "iopub.status.busy": "2022-06-09T20:57:03.574556Z",
     "iopub.status.idle": "2022-06-09T20:57:03.578934Z",
     "shell.execute_reply": "2022-06-09T20:57:03.578417Z"
    },
    "jupyter": {
     "outputs_hidden": true
    },
    "papermill": {
     "duration": 0.018591,
     "end_time": "2022-06-09T20:57:03.580860",
     "exception": false,
     "start_time": "2022-06-09T20:57:03.562269",
     "status": "completed"
    },
    "tags": []
   },
   "outputs": [
    {
     "name": "stdout",
     "output_type": "stream",
     "text": [
      "But I don't want ANY spam!\n",
      "Spam Spam Spam\n"
     ]
    }
   ],
   "source": [
    "if spam_amount > 0:\n",
    "    print(\"But I don't want ANY spam!\")\n",
    "\n",
    "viking_song = \"Spam Spam Spam\"\n",
    "print(viking_song)"
   ]
  },
  {
   "cell_type": "markdown",
   "id": "e51e21cf",
   "metadata": {
    "papermill": {
     "duration": 0.011095,
     "end_time": "2022-06-09T20:57:03.603518",
     "exception": false,
     "start_time": "2022-06-09T20:57:03.592423",
     "status": "completed"
    },
    "tags": []
   },
   "source": [
    "We won't talk much about \"conditionals\" until later, but, even if you've never coded before, you can probably guess what this does. Python is prized for its readability and the simplicity. \n",
    "\n",
    "Note how we indicated which code belongs to the `if`. `\"But I don't want ANY spam!\"` is only supposed to be printed if `spam_amount` is positive. But the later code (like `print(viking_song)`) should be executed no matter what. How do we (and Python) know that?\n",
    "\n",
    "The colon (`:`) at the end of the `if` line indicates that a new **code block** is starting. Subsequent lines which are indented are part of that code block. \n",
    "> **Note**: If you've coded before, you might know that some other languages use `{`curly braces`}` to mark the beginning and end of code blocks. Python's use of meaningful whitespace can be surprising to programmers who are accustomed to other languages, but in practice it can lead to more consistent and readable code than languages that do not enforce indentation of code blocks. \n",
    "\n",
    "The later lines dealing with `viking_song` are not indented with an extra 4 spaces, so they're not a part of the `if`'s code block. We'll see more examples of indented code blocks later when we define functions and using loops.\n",
    "\n",
    "This code snippet is also our first sighting of a **string** in Python:\n",
    "\n",
    "```python\n",
    "\"But I don't want ANY spam!\"\n",
    "```\n",
    "\n",
    "Strings can be marked either by double or single quotation marks. (But because this particular string *contains* a single-quote character, we might confuse Python by trying to surround it with single-quotes, unless we're careful.)"
   ]
  },
  {
   "cell_type": "code",
   "execution_count": 6,
   "id": "129926a9",
   "metadata": {
    "_kg_hide-output": false,
    "collapsed": true,
    "execution": {
     "iopub.execute_input": "2022-06-09T20:57:03.629080Z",
     "iopub.status.busy": "2022-06-09T20:57:03.628572Z",
     "iopub.status.idle": "2022-06-09T20:57:03.633078Z",
     "shell.execute_reply": "2022-06-09T20:57:03.631806Z"
    },
    "jupyter": {
     "outputs_hidden": true
    },
    "papermill": {
     "duration": 0.01938,
     "end_time": "2022-06-09T20:57:03.635037",
     "exception": false,
     "start_time": "2022-06-09T20:57:03.615657",
     "status": "completed"
    },
    "tags": []
   },
   "outputs": [
    {
     "name": "stdout",
     "output_type": "stream",
     "text": [
      "Spam Spam Spam Spam \n"
     ]
    }
   ],
   "source": [
    "viking_song = \"Spam \" * spam_amount\n",
    "print(viking_song)"
   ]
  },
  {
   "cell_type": "markdown",
   "id": "7fb8e92e",
   "metadata": {
    "papermill": {
     "duration": 0.011767,
     "end_time": "2022-06-09T20:57:03.659129",
     "exception": false,
     "start_time": "2022-06-09T20:57:03.647362",
     "status": "completed"
    },
    "tags": []
   },
   "source": [
    "The `*` operator can be used to multiply two numbers (`3 * 3` evaluates to 9), but we can also multiply a string by a number, to get a version that's been repeated that many times. Python offers a number of cheeky little time-saving tricks like this where operators like `*` and `+` have a different meaning depending on what kind of thing they're applied to. (The technical term for this is [operator overloading](https://en.wikipedia.org/wiki/Operator_overloading).)"
   ]
  },
  {
   "cell_type": "markdown",
   "id": "1be2c1d2",
   "metadata": {
    "papermill": {
     "duration": 0.011489,
     "end_time": "2022-06-09T20:57:03.682383",
     "exception": false,
     "start_time": "2022-06-09T20:57:03.670894",
     "status": "completed"
    },
    "tags": []
   },
   "source": [
    "## Numbers and arithmetic in Python\n",
    "\n",
    "We've already seen an example of a variable containing a number above:"
   ]
  },
  {
   "cell_type": "code",
   "execution_count": 7,
   "id": "8b44e0a2",
   "metadata": {
    "collapsed": true,
    "execution": {
     "iopub.execute_input": "2022-06-09T20:57:03.707255Z",
     "iopub.status.busy": "2022-06-09T20:57:03.706695Z",
     "iopub.status.idle": "2022-06-09T20:57:03.710620Z",
     "shell.execute_reply": "2022-06-09T20:57:03.709698Z"
    },
    "jupyter": {
     "outputs_hidden": true
    },
    "papermill": {
     "duration": 0.019243,
     "end_time": "2022-06-09T20:57:03.713150",
     "exception": false,
     "start_time": "2022-06-09T20:57:03.693907",
     "status": "completed"
    },
    "tags": []
   },
   "outputs": [],
   "source": [
    "spam_amount = 0"
   ]
  },
  {
   "cell_type": "markdown",
   "id": "14068212",
   "metadata": {
    "papermill": {
     "duration": 0.011372,
     "end_time": "2022-06-09T20:57:03.736494",
     "exception": false,
     "start_time": "2022-06-09T20:57:03.725122",
     "status": "completed"
    },
    "tags": []
   },
   "source": [
    "\"Number\" is a fine informal name for the kind of thing, but if we wanted to be more technical, we could ask Python how it would describe the type of thing that `spam_amount` is:"
   ]
  },
  {
   "cell_type": "code",
   "execution_count": 8,
   "id": "2b0b4a88",
   "metadata": {
    "collapsed": true,
    "execution": {
     "iopub.execute_input": "2022-06-09T20:57:03.760979Z",
     "iopub.status.busy": "2022-06-09T20:57:03.760609Z",
     "iopub.status.idle": "2022-06-09T20:57:03.766754Z",
     "shell.execute_reply": "2022-06-09T20:57:03.766273Z"
    },
    "jupyter": {
     "outputs_hidden": true
    },
    "papermill": {
     "duration": 0.021033,
     "end_time": "2022-06-09T20:57:03.768960",
     "exception": false,
     "start_time": "2022-06-09T20:57:03.747927",
     "status": "completed"
    },
    "tags": []
   },
   "outputs": [
    {
     "data": {
      "text/plain": [
       "int"
      ]
     },
     "execution_count": 8,
     "metadata": {},
     "output_type": "execute_result"
    }
   ],
   "source": [
    "type(spam_amount)"
   ]
  },
  {
   "cell_type": "markdown",
   "id": "22c4ebdd",
   "metadata": {
    "papermill": {
     "duration": 0.011589,
     "end_time": "2022-06-09T20:57:03.792245",
     "exception": false,
     "start_time": "2022-06-09T20:57:03.780656",
     "status": "completed"
    },
    "tags": []
   },
   "source": [
    "It's an `int` - short for integer. There's another sort of number we commonly encounter in Python:"
   ]
  },
  {
   "cell_type": "code",
   "execution_count": 9,
   "id": "697f6d36",
   "metadata": {
    "collapsed": true,
    "execution": {
     "iopub.execute_input": "2022-06-09T20:57:03.817576Z",
     "iopub.status.busy": "2022-06-09T20:57:03.817027Z",
     "iopub.status.idle": "2022-06-09T20:57:03.821868Z",
     "shell.execute_reply": "2022-06-09T20:57:03.821052Z"
    },
    "jupyter": {
     "outputs_hidden": true
    },
    "papermill": {
     "duration": 0.019851,
     "end_time": "2022-06-09T20:57:03.823821",
     "exception": false,
     "start_time": "2022-06-09T20:57:03.803970",
     "status": "completed"
    },
    "tags": []
   },
   "outputs": [
    {
     "data": {
      "text/plain": [
       "float"
      ]
     },
     "execution_count": 9,
     "metadata": {},
     "output_type": "execute_result"
    }
   ],
   "source": [
    "type(19.95)"
   ]
  },
  {
   "cell_type": "markdown",
   "id": "e9f0c2f9",
   "metadata": {
    "papermill": {
     "duration": 0.011849,
     "end_time": "2022-06-09T20:57:03.847592",
     "exception": false,
     "start_time": "2022-06-09T20:57:03.835743",
     "status": "completed"
    },
    "tags": []
   },
   "source": [
    "A `float` is a number with a decimal place - very useful for representing things like weights or proportions.\n",
    "\n",
    "`type()` is the second built-in function we've seen (after `print()`), and it's another good one to remember. It's very useful to be able to ask Python \"what kind of thing is this?\". "
   ]
  },
  {
   "cell_type": "markdown",
   "id": "2e89e48a",
   "metadata": {
    "papermill": {
     "duration": 0.011782,
     "end_time": "2022-06-09T20:57:03.871340",
     "exception": false,
     "start_time": "2022-06-09T20:57:03.859558",
     "status": "completed"
    },
    "tags": []
   },
   "source": [
    "A natural thing to want to do with numbers is perform arithmetic. We've seen the `+` operator for addition, and the `*` operator for multiplication. Python also has us covered for the rest of the basic buttons on your calculator:\n",
    "\n",
    "| Operator     | Name           | Description                                            |\n",
    "|--------------|----------------|--------------------------------------------------------|\n",
    "| ``a + b``    | Addition       | Sum of ``a`` and ``b``                                 |\n",
    "| ``a - b``    | Subtraction    | Difference of ``a`` and ``b``                          |\n",
    "| ``a * b``    | Multiplication | Product of ``a`` and ``b``                             |\n",
    "| ``a / b``    | True division  | Quotient of ``a`` and ``b``                            |\n",
    "| ``a // b``   | Floor division | Quotient of ``a`` and ``b``, removing fractional parts |\n",
    "| ``a % b``    | Modulus        | Integer remainder after division of ``a`` by ``b``     |\n",
    "| ``a ** b``   | Exponentiation | ``a`` raised to the power of ``b``                     |\n",
    "| ``-a``       | Negation       | The negative of ``a``                                  |\n",
    "\n",
    "<span style=\"display:none\"></span>\n",
    "\n",
    "One interesting observation here is that, whereas your calculator probably just has one button for division, Python can do two kinds. \"True division\" is basically what your calculator does:"
   ]
  },
  {
   "cell_type": "code",
   "execution_count": 10,
   "id": "6859b80a",
   "metadata": {
    "collapsed": true,
    "execution": {
     "iopub.execute_input": "2022-06-09T20:57:03.897684Z",
     "iopub.status.busy": "2022-06-09T20:57:03.896610Z",
     "iopub.status.idle": "2022-06-09T20:57:03.901623Z",
     "shell.execute_reply": "2022-06-09T20:57:03.900635Z"
    },
    "jupyter": {
     "outputs_hidden": true
    },
    "papermill": {
     "duration": 0.020682,
     "end_time": "2022-06-09T20:57:03.904044",
     "exception": false,
     "start_time": "2022-06-09T20:57:03.883362",
     "status": "completed"
    },
    "tags": []
   },
   "outputs": [
    {
     "name": "stdout",
     "output_type": "stream",
     "text": [
      "2.5\n",
      "3.0\n"
     ]
    }
   ],
   "source": [
    "print(5 / 2)\n",
    "print(6 / 2)"
   ]
  },
  {
   "cell_type": "markdown",
   "id": "395c8748",
   "metadata": {
    "papermill": {
     "duration": 0.007359,
     "end_time": "2022-06-09T20:57:03.920271",
     "exception": false,
     "start_time": "2022-06-09T20:57:03.912912",
     "status": "completed"
    },
    "tags": []
   },
   "source": [
    "It always gives us a `float`. \n",
    "\n",
    "The `//` operator gives us a result that's rounded down to the next integer."
   ]
  },
  {
   "cell_type": "code",
   "execution_count": 11,
   "id": "ce8f2e31",
   "metadata": {
    "collapsed": true,
    "execution": {
     "iopub.execute_input": "2022-06-09T20:57:03.936801Z",
     "iopub.status.busy": "2022-06-09T20:57:03.936403Z",
     "iopub.status.idle": "2022-06-09T20:57:03.941823Z",
     "shell.execute_reply": "2022-06-09T20:57:03.940714Z"
    },
    "jupyter": {
     "outputs_hidden": true
    },
    "papermill": {
     "duration": 0.016319,
     "end_time": "2022-06-09T20:57:03.944047",
     "exception": false,
     "start_time": "2022-06-09T20:57:03.927728",
     "status": "completed"
    },
    "tags": []
   },
   "outputs": [
    {
     "name": "stdout",
     "output_type": "stream",
     "text": [
      "2\n",
      "3\n"
     ]
    }
   ],
   "source": [
    "print(5 // 2)\n",
    "print(6 // 2)"
   ]
  },
  {
   "cell_type": "markdown",
   "id": "23bdec76",
   "metadata": {
    "papermill": {
     "duration": 0.012287,
     "end_time": "2022-06-09T20:57:03.969273",
     "exception": false,
     "start_time": "2022-06-09T20:57:03.956986",
     "status": "completed"
    },
    "tags": []
   },
   "source": [
    "Can you think of where this would be useful? You'll see an example soon in the coding challenges."
   ]
  },
  {
   "cell_type": "markdown",
   "id": "4744ea4f",
   "metadata": {
    "papermill": {
     "duration": 0.012405,
     "end_time": "2022-06-09T20:57:03.994781",
     "exception": false,
     "start_time": "2022-06-09T20:57:03.982376",
     "status": "completed"
    },
    "tags": []
   },
   "source": [
    "### Order of operations\n",
    "\n",
    "The arithmetic we learned in primary school has conventions about the order in which operations are evaluated. Some remember these by a mnemonic such as **PEMDAS** - **P**arentheses, **E**xponents, **M**ultiplication/**D**ivision, **A**ddition/**S**ubtraction.\n",
    "\n",
    "Python follows similar rules about which calculations to perform first. They're mostly pretty intuitive."
   ]
  },
  {
   "cell_type": "code",
   "execution_count": 12,
   "id": "1d1e1d66",
   "metadata": {
    "collapsed": true,
    "execution": {
     "iopub.execute_input": "2022-06-09T20:57:04.021586Z",
     "iopub.status.busy": "2022-06-09T20:57:04.020801Z",
     "iopub.status.idle": "2022-06-09T20:57:04.026829Z",
     "shell.execute_reply": "2022-06-09T20:57:04.025906Z"
    },
    "jupyter": {
     "outputs_hidden": true
    },
    "papermill": {
     "duration": 0.021377,
     "end_time": "2022-06-09T20:57:04.028571",
     "exception": false,
     "start_time": "2022-06-09T20:57:04.007194",
     "status": "completed"
    },
    "tags": []
   },
   "outputs": [
    {
     "data": {
      "text/plain": [
       "7"
      ]
     },
     "execution_count": 12,
     "metadata": {},
     "output_type": "execute_result"
    }
   ],
   "source": [
    "8 - 3 + 2"
   ]
  },
  {
   "cell_type": "code",
   "execution_count": 13,
   "id": "e14b3d0e",
   "metadata": {
    "collapsed": true,
    "execution": {
     "iopub.execute_input": "2022-06-09T20:57:04.055957Z",
     "iopub.status.busy": "2022-06-09T20:57:04.055188Z",
     "iopub.status.idle": "2022-06-09T20:57:04.060566Z",
     "shell.execute_reply": "2022-06-09T20:57:04.059832Z"
    },
    "jupyter": {
     "outputs_hidden": true
    },
    "papermill": {
     "duration": 0.021528,
     "end_time": "2022-06-09T20:57:04.062903",
     "exception": false,
     "start_time": "2022-06-09T20:57:04.041375",
     "status": "completed"
    },
    "tags": []
   },
   "outputs": [
    {
     "data": {
      "text/plain": [
       "5"
      ]
     },
     "execution_count": 13,
     "metadata": {},
     "output_type": "execute_result"
    }
   ],
   "source": [
    "-3 + 4 * 2"
   ]
  },
  {
   "cell_type": "markdown",
   "id": "34aa8244",
   "metadata": {
    "papermill": {
     "duration": 0.012711,
     "end_time": "2022-06-09T20:57:04.089037",
     "exception": false,
     "start_time": "2022-06-09T20:57:04.076326",
     "status": "completed"
    },
    "tags": []
   },
   "source": [
    "Sometimes the default order of operations isn't what we want:"
   ]
  },
  {
   "cell_type": "code",
   "execution_count": 14,
   "id": "f9f0cff3",
   "metadata": {
    "collapsed": true,
    "execution": {
     "iopub.execute_input": "2022-06-09T20:57:04.116370Z",
     "iopub.status.busy": "2022-06-09T20:57:04.116005Z",
     "iopub.status.idle": "2022-06-09T20:57:04.120522Z",
     "shell.execute_reply": "2022-06-09T20:57:04.119810Z"
    },
    "jupyter": {
     "outputs_hidden": true
    },
    "papermill": {
     "duration": 0.020526,
     "end_time": "2022-06-09T20:57:04.122403",
     "exception": false,
     "start_time": "2022-06-09T20:57:04.101877",
     "status": "completed"
    },
    "tags": []
   },
   "outputs": [
    {
     "name": "stdout",
     "output_type": "stream",
     "text": [
      "Height in meters = 26.9 ?\n"
     ]
    }
   ],
   "source": [
    "hat_height_cm = 25\n",
    "my_height_cm = 190\n",
    "# How tall am I, in meters, when wearing my hat?\n",
    "total_height_meters = hat_height_cm + my_height_cm / 100\n",
    "print(\"Height in meters =\", total_height_meters, \"?\")"
   ]
  },
  {
   "cell_type": "markdown",
   "id": "3fcc3d14",
   "metadata": {
    "papermill": {
     "duration": 0.012789,
     "end_time": "2022-06-09T20:57:04.148195",
     "exception": false,
     "start_time": "2022-06-09T20:57:04.135406",
     "status": "completed"
    },
    "tags": []
   },
   "source": [
    "Parentheses are useful here. You can add them to force Python to evaluate sub-expressions in whatever order you want."
   ]
  },
  {
   "cell_type": "code",
   "execution_count": 15,
   "id": "03b2f523",
   "metadata": {
    "collapsed": true,
    "execution": {
     "iopub.execute_input": "2022-06-09T20:57:04.176377Z",
     "iopub.status.busy": "2022-06-09T20:57:04.175437Z",
     "iopub.status.idle": "2022-06-09T20:57:04.181015Z",
     "shell.execute_reply": "2022-06-09T20:57:04.180106Z"
    },
    "jupyter": {
     "outputs_hidden": true
    },
    "papermill": {
     "duration": 0.022397,
     "end_time": "2022-06-09T20:57:04.183520",
     "exception": false,
     "start_time": "2022-06-09T20:57:04.161123",
     "status": "completed"
    },
    "tags": []
   },
   "outputs": [
    {
     "name": "stdout",
     "output_type": "stream",
     "text": [
      "Height in meters = 2.15\n"
     ]
    }
   ],
   "source": [
    "total_height_meters = (hat_height_cm + my_height_cm) / 100\n",
    "print(\"Height in meters =\", total_height_meters)"
   ]
  },
  {
   "cell_type": "markdown",
   "id": "e7905bfc",
   "metadata": {
    "papermill": {
     "duration": 0.008017,
     "end_time": "2022-06-09T20:57:04.200466",
     "exception": false,
     "start_time": "2022-06-09T20:57:04.192449",
     "status": "completed"
    },
    "tags": []
   },
   "source": [
    "### Builtin functions for working with numbers\n",
    "\n",
    "`min` and `max` return the minimum and maximum of their arguments, respectively..."
   ]
  },
  {
   "cell_type": "code",
   "execution_count": 16,
   "id": "aca3de1c",
   "metadata": {
    "collapsed": true,
    "execution": {
     "iopub.execute_input": "2022-06-09T20:57:04.218681Z",
     "iopub.status.busy": "2022-06-09T20:57:04.218153Z",
     "iopub.status.idle": "2022-06-09T20:57:04.223033Z",
     "shell.execute_reply": "2022-06-09T20:57:04.222007Z"
    },
    "jupyter": {
     "outputs_hidden": true
    },
    "papermill": {
     "duration": 0.016702,
     "end_time": "2022-06-09T20:57:04.225344",
     "exception": false,
     "start_time": "2022-06-09T20:57:04.208642",
     "status": "completed"
    },
    "tags": []
   },
   "outputs": [
    {
     "name": "stdout",
     "output_type": "stream",
     "text": [
      "1\n",
      "3\n"
     ]
    }
   ],
   "source": [
    "print(min(1, 2, 3))\n",
    "print(max(1, 2, 3))"
   ]
  },
  {
   "cell_type": "markdown",
   "id": "ebf2af67",
   "metadata": {
    "papermill": {
     "duration": 0.013815,
     "end_time": "2022-06-09T20:57:04.252926",
     "exception": false,
     "start_time": "2022-06-09T20:57:04.239111",
     "status": "completed"
    },
    "tags": []
   },
   "source": [
    "`abs` returns the absolute value of an argument:"
   ]
  },
  {
   "cell_type": "code",
   "execution_count": 17,
   "id": "a7dfbd1a",
   "metadata": {
    "collapsed": true,
    "execution": {
     "iopub.execute_input": "2022-06-09T20:57:04.282842Z",
     "iopub.status.busy": "2022-06-09T20:57:04.282254Z",
     "iopub.status.idle": "2022-06-09T20:57:04.287193Z",
     "shell.execute_reply": "2022-06-09T20:57:04.285956Z"
    },
    "jupyter": {
     "outputs_hidden": true
    },
    "papermill": {
     "duration": 0.022051,
     "end_time": "2022-06-09T20:57:04.289161",
     "exception": false,
     "start_time": "2022-06-09T20:57:04.267110",
     "status": "completed"
    },
    "tags": []
   },
   "outputs": [
    {
     "name": "stdout",
     "output_type": "stream",
     "text": [
      "32\n",
      "32\n"
     ]
    }
   ],
   "source": [
    "print(abs(32))\n",
    "print(abs(-32))"
   ]
  },
  {
   "cell_type": "markdown",
   "id": "2a584ebf",
   "metadata": {
    "papermill": {
     "duration": 0.013494,
     "end_time": "2022-06-09T20:57:04.316246",
     "exception": false,
     "start_time": "2022-06-09T20:57:04.302752",
     "status": "completed"
    },
    "tags": []
   },
   "source": [
    "In addition to being the names of Python's two main numerical types, `int` and `float` can also be called as functions which convert their arguments to the corresponding type:"
   ]
  },
  {
   "cell_type": "code",
   "execution_count": 18,
   "id": "5218656c",
   "metadata": {
    "collapsed": true,
    "execution": {
     "iopub.execute_input": "2022-06-09T20:57:04.345729Z",
     "iopub.status.busy": "2022-06-09T20:57:04.344571Z",
     "iopub.status.idle": "2022-06-09T20:57:04.350963Z",
     "shell.execute_reply": "2022-06-09T20:57:04.349835Z"
    },
    "jupyter": {
     "outputs_hidden": true
    },
    "papermill": {
     "duration": 0.022793,
     "end_time": "2022-06-09T20:57:04.352768",
     "exception": false,
     "start_time": "2022-06-09T20:57:04.329975",
     "status": "completed"
    },
    "tags": []
   },
   "outputs": [
    {
     "name": "stdout",
     "output_type": "stream",
     "text": [
      "10.0\n",
      "3\n",
      "808\n"
     ]
    }
   ],
   "source": [
    "print(float(10))\n",
    "print(int(3.33))\n",
    "# They can even be called on strings!\n",
    "print(int('807') + 1)"
   ]
  },
  {
   "cell_type": "markdown",
   "id": "389f8019",
   "metadata": {
    "papermill": {
     "duration": 0.013351,
     "end_time": "2022-06-09T20:57:04.379832",
     "exception": false,
     "start_time": "2022-06-09T20:57:04.366481",
     "status": "completed"
    },
    "tags": []
   },
   "source": [
    "# Your Turn\n",
    "\n",
    "Now is your chance. Try your **[first Python programming exercise](https://www.kaggle.com/kernels/fork/1275163)**!"
   ]
  },
  {
   "cell_type": "markdown",
   "id": "e478efef",
   "metadata": {
    "papermill": {
     "duration": 0.013462,
     "end_time": "2022-06-09T20:57:04.406770",
     "exception": false,
     "start_time": "2022-06-09T20:57:04.393308",
     "status": "completed"
    },
    "tags": []
   },
   "source": [
    "---\n",
    "\n",
    "\n",
    "\n",
    "\n",
    "*Have questions or comments? Visit the [course discussion forum](https://www.kaggle.com/learn/python/discussion) to chat with other learners.*"
   ]
  }
 ],
 "metadata": {
  "kernelspec": {
   "display_name": "Python 3",
   "language": "python",
   "name": "python3"
  },
  "language_info": {
   "codemirror_mode": {
    "name": "ipython",
    "version": 3
   },
   "file_extension": ".py",
   "mimetype": "text/x-python",
   "name": "python",
   "nbconvert_exporter": "python",
   "pygments_lexer": "ipython3",
   "version": "3.8.5"
  },
  "papermill": {
   "default_parameters": {},
   "duration": 12.547572,
   "end_time": "2022-06-09T20:57:05.342294",
   "environment_variables": {},
   "exception": null,
   "input_path": "__notebook__.ipynb",
   "output_path": "__notebook__.ipynb",
   "parameters": {},
   "start_time": "2022-06-09T20:56:52.794722",
   "version": "2.3.4"
  }
 },
 "nbformat": 4,
 "nbformat_minor": 5
}
